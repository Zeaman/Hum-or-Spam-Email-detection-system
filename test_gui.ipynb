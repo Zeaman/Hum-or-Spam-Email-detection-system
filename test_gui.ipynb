{
 "cells": [
  {
   "cell_type": "markdown",
   "id": "7398d1fe-611c-47ce-b40d-7190078317c4",
   "metadata": {},
   "source": [
    "## Test the Spam Email Classifer using GUI"
   ]
  },
  {
   "cell_type": "markdown",
   "id": "8d9032d0-a792-4e5f-bc08-04fc20dbe57b",
   "metadata": {},
   "source": [
    "### Prepared and coded by:\n",
    "#### **** Amanuel Mihiret (Aman)"
   ]
  },
  {
   "cell_type": "markdown",
   "id": "a3fdbf34-5e26-42bf-a4da-e3379713ce83",
   "metadata": {},
   "source": [
    "### 00. Install required dependencies"
   ]
  },
  {
   "cell_type": "code",
   "execution_count": 19,
   "id": "a818ea9f-c2b3-432a-9645-6d3d02b2743f",
   "metadata": {},
   "outputs": [
    {
     "name": "stdout",
     "output_type": "stream",
     "text": [
      "Requirement already satisfied: tk in c:\\my_files\\programming\\python\\ai\\correctspamemial\\humspam\\lib\\site-packages (0.1.0)\n",
      "Collecting pyinstaller\n",
      "  Downloading pyinstaller-6.2.0-py3-none-win_amd64.whl.metadata (8.3 kB)\n",
      "Collecting setuptools>=42.0.0 (from pyinstaller)\n",
      "  Using cached setuptools-68.2.2-py3-none-any.whl.metadata (6.3 kB)\n",
      "Collecting altgraph (from pyinstaller)\n",
      "  Downloading altgraph-0.17.4-py2.py3-none-any.whl.metadata (7.3 kB)\n",
      "Collecting pyinstaller-hooks-contrib>=2021.4 (from pyinstaller)\n",
      "  Downloading pyinstaller_hooks_contrib-2023.10-py2.py3-none-any.whl.metadata (15 kB)\n",
      "Requirement already satisfied: packaging>=22.0 in c:\\my_files\\programming\\python\\ai\\correctspamemial\\humspam\\lib\\site-packages (from pyinstaller) (23.2)\n",
      "Collecting pefile>=2022.5.30 (from pyinstaller)\n",
      "  Downloading pefile-2023.2.7-py3-none-any.whl (71 kB)\n",
      "     ---------------------------------------- 0.0/71.8 kB ? eta -:--:--\n",
      "     ----------------- ---------------------- 30.7/71.8 kB 1.3 MB/s eta 0:00:01\n",
      "     ----------------- ---------------------- 30.7/71.8 kB 1.3 MB/s eta 0:00:01\n",
      "     ----------------- ---------------------- 30.7/71.8 kB 1.3 MB/s eta 0:00:01\n",
      "     -------------------------------------  71.7/71.8 kB 391.3 kB/s eta 0:00:01\n",
      "     -------------------------------------- 71.8/71.8 kB 327.4 kB/s eta 0:00:00\n",
      "Collecting pywin32-ctypes>=0.2.1 (from pyinstaller)\n",
      "  Downloading pywin32_ctypes-0.2.2-py3-none-any.whl.metadata (3.8 kB)\n",
      "Downloading pyinstaller-6.2.0-py3-none-win_amd64.whl (1.3 MB)\n",
      "   ---------------------------------------- 0.0/1.3 MB ? eta -:--:--\n",
      "   - -------------------------------------- 0.0/1.3 MB 2.0 MB/s eta 0:00:01\n",
      "   - -------------------------------------- 0.0/1.3 MB 2.0 MB/s eta 0:00:01\n",
      "   - -------------------------------------- 0.1/1.3 MB 469.7 kB/s eta 0:00:03\n",
      "   -- ------------------------------------- 0.1/1.3 MB 438.1 kB/s eta 0:00:03\n",
      "   --- ------------------------------------ 0.1/1.3 MB 469.7 kB/s eta 0:00:03\n",
      "   --- ------------------------------------ 0.1/1.3 MB 425.1 kB/s eta 0:00:03\n",
      "   ---- ----------------------------------- 0.2/1.3 MB 459.5 kB/s eta 0:00:03\n",
      "   ------ --------------------------------- 0.2/1.3 MB 491.5 kB/s eta 0:00:03\n",
      "   ------- -------------------------------- 0.2/1.3 MB 510.8 kB/s eta 0:00:03\n",
      "   ------- -------------------------------- 0.2/1.3 MB 515.5 kB/s eta 0:00:03\n",
      "   ------- -------------------------------- 0.3/1.3 MB 491.5 kB/s eta 0:00:03\n",
      "   --------- ------------------------------ 0.3/1.3 MB 528.4 kB/s eta 0:00:02\n",
      "   --------- ------------------------------ 0.3/1.3 MB 518.0 kB/s eta 0:00:02\n",
      "   ----------- ---------------------------- 0.4/1.3 MB 530.7 kB/s eta 0:00:02\n",
      "   ------------ --------------------------- 0.4/1.3 MB 551.5 kB/s eta 0:00:02\n",
      "   ------------ --------------------------- 0.4/1.3 MB 530.1 kB/s eta 0:00:02\n",
      "   ------------- -------------------------- 0.4/1.3 MB 540.3 kB/s eta 0:00:02\n",
      "   -------------- ------------------------- 0.5/1.3 MB 554.9 kB/s eta 0:00:02\n",
      "   --------------- ------------------------ 0.5/1.3 MB 560.3 kB/s eta 0:00:02\n",
      "   --------------- ------------------------ 0.5/1.3 MB 553.8 kB/s eta 0:00:02\n",
      "   ---------------- ----------------------- 0.5/1.3 MB 558.7 kB/s eta 0:00:02\n",
      "   ------------------ --------------------- 0.6/1.3 MB 575.1 kB/s eta 0:00:02\n",
      "   ------------------- -------------------- 0.6/1.3 MB 578.5 kB/s eta 0:00:02\n",
      "   -------------------- ------------------- 0.6/1.3 MB 588.9 kB/s eta 0:00:02\n",
      "   -------------------- ------------------- 0.7/1.3 MB 565.9 kB/s eta 0:00:02\n",
      "   ---------------------- ----------------- 0.7/1.3 MB 578.8 kB/s eta 0:00:01\n",
      "   ---------------------- ----------------- 0.7/1.3 MB 588.5 kB/s eta 0:00:01\n",
      "   ------------------------ --------------- 0.8/1.3 MB 599.5 kB/s eta 0:00:01\n",
      "   ------------------------ --------------- 0.8/1.3 MB 593.2 kB/s eta 0:00:01\n",
      "   -------------------------- ------------- 0.8/1.3 MB 596.7 kB/s eta 0:00:01\n",
      "   --------------------------- ------------ 0.9/1.3 MB 605.3 kB/s eta 0:00:01\n",
      "   ---------------------------- ----------- 0.9/1.3 MB 606.9 kB/s eta 0:00:01\n",
      "   ----------------------------- ---------- 0.9/1.3 MB 608.6 kB/s eta 0:00:01\n",
      "   ------------------------------ --------- 1.0/1.3 MB 623.0 kB/s eta 0:00:01\n",
      "   ------------------------------- -------- 1.0/1.3 MB 623.7 kB/s eta 0:00:01\n",
      "   -------------------------------- ------- 1.0/1.3 MB 618.4 kB/s eta 0:00:01\n",
      "   --------------------------------- ------ 1.1/1.3 MB 619.9 kB/s eta 0:00:01\n",
      "   ----------------------------------- ---- 1.1/1.3 MB 637.8 kB/s eta 0:00:01\n",
      "   ------------------------------------ --- 1.2/1.3 MB 644.2 kB/s eta 0:00:01\n",
      "   ------------------------------------- -- 1.2/1.3 MB 644.2 kB/s eta 0:00:01\n",
      "   ------------------------------------- -- 1.2/1.3 MB 639.0 kB/s eta 0:00:01\n",
      "   ---------------------------------------  1.3/1.3 MB 655.5 kB/s eta 0:00:01\n",
      "   ---------------------------------------- 1.3/1.3 MB 641.9 kB/s eta 0:00:00\n",
      "Downloading pyinstaller_hooks_contrib-2023.10-py2.py3-none-any.whl (288 kB)\n",
      "   ---------------------------------------- 0.0/288.4 kB ? eta -:--:--\n",
      "   --------------- ------------------------ 112.6/288.4 kB 6.4 MB/s eta 0:00:01\n",
      "   --------------- ------------------------ 112.6/288.4 kB 6.4 MB/s eta 0:00:01\n",
      "   ----------------- ---------------------- 122.9/288.4 kB 1.0 MB/s eta 0:00:01\n",
      "   ----------------- ---------------------- 122.9/288.4 kB 1.0 MB/s eta 0:00:01\n",
      "   ----------------- ---------------------- 122.9/288.4 kB 1.0 MB/s eta 0:00:01\n",
      "   ---------------------------------------  286.7/288.4 kB 1.0 MB/s eta 0:00:01\n",
      "   -------------------------------------- 288.4/288.4 kB 936.7 kB/s eta 0:00:00\n",
      "Downloading pywin32_ctypes-0.2.2-py3-none-any.whl (30 kB)\n",
      "Using cached setuptools-68.2.2-py3-none-any.whl (807 kB)\n",
      "Downloading altgraph-0.17.4-py2.py3-none-any.whl (21 kB)\n",
      "Installing collected packages: altgraph, setuptools, pywin32-ctypes, pyinstaller-hooks-contrib, pefile, pyinstaller\n",
      "Successfully installed altgraph-0.17.4 pefile-2023.2.7 pyinstaller-6.2.0 pyinstaller-hooks-contrib-2023.10 pywin32-ctypes-0.2.2 setuptools-68.2.2\n"
     ]
    }
   ],
   "source": [
    "# Install dependencies\n",
    "!pip install tk\n",
    "!pip install pyinstaller"
   ]
  },
  {
   "cell_type": "markdown",
   "id": "9a1ab7ad-2da7-48b0-a328-41ed5b0fc3b7",
   "metadata": {},
   "source": [
    "### 0. Import the required dependencies"
   ]
  },
  {
   "cell_type": "code",
   "execution_count": 3,
   "id": "efba146e-a4fa-4e4b-8800-7ee63d61fe77",
   "metadata": {},
   "outputs": [],
   "source": [
    "# Import installed requiered dependencies\n",
    "import joblib \n",
    "import tkinter as tk\n",
    "from tkinter import messagebox \n",
    "from sklearn.feature_extraction.text import CountVectorizer"
   ]
  },
  {
   "cell_type": "markdown",
   "id": "f8d8b92d-8892-404c-9509-c2f7c8300fca",
   "metadata": {},
   "source": [
    "### 1. Insert the email to be check"
   ]
  },
  {
   "cell_type": "code",
   "execution_count": 4,
   "id": "81569448-3eea-4f39-84fd-8a61839fb9ab",
   "metadata": {},
   "outputs": [],
   "source": [
    "# Load the model and vectorizer\n",
    "model = joblib.load('spam_classifier_model.joblib')\n",
    "vectorizer = joblib.load('vectorizer.pkl')"
   ]
  },
  {
   "cell_type": "markdown",
   "id": "5fccbd46-0481-4c63-8627-555720acc076",
   "metadata": {},
   "source": [
    "### 2. function for spam classifer"
   ]
  },
  {
   "cell_type": "code",
   "execution_count": 17,
   "id": "297a75fe-1009-4ddf-8291-6eadc920cfa3",
   "metadata": {},
   "outputs": [],
   "source": [
    "# function for spam classifying\n",
    "def check_spam():\n",
    "    # Get user input\n",
    "    user_input = entry.get()\n",
    "\n",
    "    # Vectorize the input\n",
    "    input_vectorized = vectorizer.transform([user_input])\n",
    "\n",
    "    # Make prediction\n",
    "    prediction = model.predict(input_vectorized)\n",
    "\n",
    "    # Display result in the GUI\n",
    "    result = \"Spam\" if prediction[0] == 1 else \"Ham\"\n",
    "    result_label.config(text=f\"The email is {result}\")"
   ]
  },
  {
   "cell_type": "markdown",
   "id": "de9dacfa-eaea-47dc-acc7-cb1066fc0b38",
   "metadata": {},
   "source": [
    "### 3. Define the GUI"
   ]
  },
  {
   "cell_type": "code",
   "execution_count": 18,
   "id": "678cd53b-85c7-4586-a54e-d4ca4a433750",
   "metadata": {},
   "outputs": [],
   "source": [
    "# Create GUI window\n",
    "window = tk.Tk()\n",
    "window.title(\"Email Spam Classifier\")\n",
    "\n",
    "# Create Label for 'Email:'\n",
    "email_label = tk.Label(window, text=\"Email:\")\n",
    "email_label.pack(pady=5)\n",
    "\n",
    "# Create input entry\n",
    "entry = tk.Entry(window, width=60)\n",
    "entry.pack(pady=5)\n",
    "\n",
    "# Create check button\n",
    "check_button = tk.Button(window, text=\"Check Spam\", command=check_spam)\n",
    "check_button.pack(pady=5)\n",
    "\n",
    "# Label to display the result\n",
    "result_label = tk.Label(window, text=\"\")\n",
    "result_label.pack(pady=5)\n",
    "\n",
    "# Run the GUI\n",
    "window.mainloop()"
   ]
  },
  {
   "cell_type": "markdown",
   "id": "3137e442-b6f2-402f-8f53-9c72ece77994",
   "metadata": {},
   "source": [
    "##                                                                    **** End ****"
   ]
  }
 ],
 "metadata": {
  "kernelspec": {
   "display_name": "humSpamKernel",
   "language": "python",
   "name": "humspamkernel"
  },
  "language_info": {
   "codemirror_mode": {
    "name": "ipython",
    "version": 3
   },
   "file_extension": ".py",
   "mimetype": "text/x-python",
   "name": "python",
   "nbconvert_exporter": "python",
   "pygments_lexer": "ipython3",
   "version": "3.12.0"
  }
 },
 "nbformat": 4,
 "nbformat_minor": 5
}
