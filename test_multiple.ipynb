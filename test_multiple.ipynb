{
 "cells": [
  {
   "cell_type": "markdown",
   "id": "249b0c59-49c1-4946-ac2a-5dc1e2384160",
   "metadata": {},
   "source": [
    "## Test the Spam Email (Multiple) Classifer"
   ]
  },
  {
   "cell_type": "markdown",
   "id": "68806133-1564-4b70-af33-891261883a5c",
   "metadata": {},
   "source": [
    "### Prepared and coded by:\n",
    "#### **** Amanuel Mihiret (Aman)"
   ]
  },
  {
   "cell_type": "markdown",
   "id": "a30a6753-038d-40b6-b5c5-2edfff829e87",
   "metadata": {},
   "source": [
    "### 0. Import the required dependencies"
   ]
  },
  {
   "cell_type": "code",
   "execution_count": null,
   "id": "3fc07fb6-53c0-4a76-8ec9-8b404d713f67",
   "metadata": {},
   "outputs": [],
   "source": [
    "# Import requiered dependencies\n",
    "import joblib\n",
    "import pandas as pd\n",
    "import numpy as np\n",
    "from sklearn.model_selection import train_test_split\n",
    "from sklearn.feature_extraction.text import CountVectorizer\n",
    "from sklearn.naive_bayes import MultinomialNB"
   ]
  },
  {
   "cell_type": "markdown",
   "id": "db20c713-2439-4e2a-a684-d937d0ad6796",
   "metadata": {},
   "source": [
    "### 1. Load the model and the vectorizer"
   ]
  },
  {
   "cell_type": "code",
   "execution_count": null,
   "id": "d384e7c2-b0b0-49a5-be3f-8936f106da7e",
   "metadata": {},
   "outputs": [],
   "source": [
    "# Load the saved model\n",
    "model = joblib.load('spam_classifier_model.joblib')"
   ]
  },
  {
   "cell_type": "code",
   "execution_count": null,
   "id": "4f0fa007-ad3c-4793-aea5-6b5f3f27e7ee",
   "metadata": {},
   "outputs": [],
   "source": [
    "# Load the vectorizer\n",
    "vectorizer = joblib.load('vectorizer.pkl')"
   ]
  },
  {
   "cell_type": "markdown",
   "id": "1686d76e-5523-4dbe-83ab-4916ef22adad",
   "metadata": {},
   "source": [
    "### 2. Insert the emails to be check"
   ]
  },
  {
   "cell_type": "code",
   "execution_count": null,
   "id": "7359f266-6356-45c6-aa99-35d32bf4a51b",
   "metadata": {},
   "outputs": [],
   "source": [
    "email_texts = [\"email1 content\", \"email2 content\", ...]"
   ]
  },
  {
   "cell_type": "markdown",
   "id": "911c5b31-4244-4e14-9a92-2937d250db3b",
   "metadata": {},
   "source": [
    "### 3. Vectorize the input emails and make a peredictions"
   ]
  },
  {
   "cell_type": "code",
   "execution_count": null,
   "id": "31c1a77d-bdd9-4913-9219-f9a1eaadc1a3",
   "metadata": {},
   "outputs": [],
   "source": [
    "for email_text in email_texts:\n",
    "    # Vectorize\n",
    "    email_vector = vectorizer.transform([email_text])\n",
    "\n",
    "    # Predict\n",
    "    prediction = model.predict(email_vector)\n",
    "\n",
    "    # Interpret\n",
    "    if prediction[0] == 0:\n",
    "        print(f\"The email is classified as 'Ham' (non-spam).\")\n",
    "    else:\n",
    "        print(\"The email is classified as 'Spam'.\")"
   ]
  },
  {
   "cell_type": "markdown",
   "id": "dc043494-68dc-4eb8-b414-8454590913ba",
   "metadata": {},
   "source": [
    "##                                                                    **** End ****"
   ]
  }
 ],
 "metadata": {
  "kernelspec": {
   "display_name": "humSpamKernel",
   "language": "python",
   "name": "humspamkernel"
  },
  "language_info": {
   "codemirror_mode": {
    "name": "ipython",
    "version": 3
   },
   "file_extension": ".py",
   "mimetype": "text/x-python",
   "name": "python",
   "nbconvert_exporter": "python",
   "pygments_lexer": "ipython3",
   "version": "3.12.0"
  }
 },
 "nbformat": 4,
 "nbformat_minor": 5
}
