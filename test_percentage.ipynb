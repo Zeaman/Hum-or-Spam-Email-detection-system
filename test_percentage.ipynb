{
 "cells": [
  {
   "cell_type": "markdown",
   "id": "caa28579-dd50-49c9-8ec6-97a011fca8c8",
   "metadata": {},
   "source": [
    "## Test the Spam Email Classifer using GUI_percentage"
   ]
  },
  {
   "cell_type": "markdown",
   "id": "6172e201-4a36-44d3-b88d-ba825981659c",
   "metadata": {},
   "source": [
    "### Prepared and coded by:\n",
    "#### **** Amanuel Mihiret (Aman)"
   ]
  },
  {
   "cell_type": "code",
   "execution_count": null,
   "id": "773498ff-70a4-4361-bd1b-b902823aca1f",
   "metadata": {},
   "outputs": [],
   "source": [
    "import tkinter as tk\n",
    "import joblib\n",
    "\n",
    "# Load the model and vectorizer\n",
    "model = joblib.load('spam_classifier_model.joblib')\n",
    "vectorizer = joblib.load('vectorizer.pkl')\n",
    "\n",
    "# Function for spam classifying\n",
    "def check_spam():\n",
    "    # Get user input\n",
    "    user_input = entry.get()\n",
    "\n",
    "    # Vectorize the input\n",
    "    input_vectorized = vectorizer.transform([user_input])\n",
    "\n",
    "    # Make prediction\n",
    "    prediction = model.predict(input_vectorized)\n",
    "\n",
    "    # Display result in the GUI\n",
    "    result = \"Spam\" if prediction[0] == 1 else \"Ham\"\n",
    "    result_label.config(text=f\"The email is {result}\")\n",
    "\n",
    "    # Calculate accuracy percentage\n",
    "    accuracy_percentage = model.score(input_vectorized, [1]) * 100\n",
    "    accuracy_label.config(text=f\"Accuracy: {accuracy_percentage:.2f}%\")\n",
    "\n",
    "# Create GUI window\n",
    "window = tk.Tk()\n",
    "window.title(\"Email Spam Classifier\")\n",
    "\n",
    "# Create Label for 'Email:'\n",
    "email_label = tk.Label(window, text=\"Email:\")\n",
    "email_label.pack(pady=5)\n",
    "\n",
    "# Create input entry\n",
    "entry = tk.Entry(window, width=60)\n",
    "entry.pack(pady=5)\n",
    "\n",
    "# Create check button\n",
    "check_button = tk.Button(window, text=\"Check Spam\", command=check_spam)\n",
    "check_button.pack(pady=5)\n",
    "\n",
    "# Label to display the result\n",
    "result_label = tk.Label(window, text=\"\")\n",
    "result_label.pack(pady=5)\n",
    "\n",
    "# Label to display accuracy\n",
    "accuracy_label = tk.Label(window, text=\"\")\n",
    "accuracy_label.pack(pady=5)\n",
    "\n",
    "# Run the GUI\n",
    "window.mainloop()"
   ]
  }
 ],
 "metadata": {
  "kernelspec": {
   "display_name": "humSpamKernel",
   "language": "python",
   "name": "humspamkernel"
  },
  "language_info": {
   "codemirror_mode": {
    "name": "ipython",
    "version": 3
   },
   "file_extension": ".py",
   "mimetype": "text/x-python",
   "name": "python",
   "nbconvert_exporter": "python",
   "pygments_lexer": "ipython3",
   "version": "3.12.0"
  }
 },
 "nbformat": 4,
 "nbformat_minor": 5
}
