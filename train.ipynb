{
 "cells": [
  {
   "cell_type": "markdown",
   "id": "5c1c8c95-4be8-4cb7-9036-d6c1c663d375",
   "metadata": {},
   "source": [
    "# Hum or Spam email detection system using Naive Bayes"
   ]
  },
  {
   "cell_type": "markdown",
   "id": "9ee0b801-4aaf-44c1-9e48-647935413f41",
   "metadata": {},
   "source": [
    "### Prepared and coded by:\n",
    "#### **** Amanuel Mihiret (Aman)"
   ]
  },
  {
   "cell_type": "markdown",
   "id": "a314f86e-0379-4f5f-9cf0-a3a63fe1d14f",
   "metadata": {},
   "source": [
    "### 00. Install dependencies"
   ]
  },
  {
   "cell_type": "code",
   "execution_count": 58,
   "id": "f001bfb1-0b54-4ca6-a056-995c4488846d",
   "metadata": {},
   "outputs": [
    {
     "name": "stdout",
     "output_type": "stream",
     "text": [
      "Requirement already satisfied: numpy in c:\\my_files\\programming\\python\\ai\\correctspamemial\\humspam\\lib\\site-packages (1.26.2)\n",
      "Requirement already satisfied: pandas in c:\\my_files\\programming\\python\\ai\\correctspamemial\\humspam\\lib\\site-packages (2.1.3)\n",
      "Requirement already satisfied: numpy<2,>=1.26.0 in c:\\my_files\\programming\\python\\ai\\correctspamemial\\humspam\\lib\\site-packages (from pandas) (1.26.2)\n",
      "Requirement already satisfied: python-dateutil>=2.8.2 in c:\\my_files\\programming\\python\\ai\\correctspamemial\\humspam\\lib\\site-packages (from pandas) (2.8.2)\n",
      "Requirement already satisfied: pytz>=2020.1 in c:\\my_files\\programming\\python\\ai\\correctspamemial\\humspam\\lib\\site-packages (from pandas) (2023.3.post1)\n",
      "Requirement already satisfied: tzdata>=2022.1 in c:\\my_files\\programming\\python\\ai\\correctspamemial\\humspam\\lib\\site-packages (from pandas) (2023.3)\n",
      "Requirement already satisfied: six>=1.5 in c:\\my_files\\programming\\python\\ai\\correctspamemial\\humspam\\lib\\site-packages (from python-dateutil>=2.8.2->pandas) (1.16.0)\n",
      "Requirement already satisfied: scikit-learn in c:\\my_files\\programming\\python\\ai\\correctspamemial\\humspam\\lib\\site-packages (1.3.2)\n",
      "Requirement already satisfied: numpy<2.0,>=1.17.3 in c:\\my_files\\programming\\python\\ai\\correctspamemial\\humspam\\lib\\site-packages (from scikit-learn) (1.26.2)\n",
      "Requirement already satisfied: scipy>=1.5.0 in c:\\my_files\\programming\\python\\ai\\correctspamemial\\humspam\\lib\\site-packages (from scikit-learn) (1.11.4)\n",
      "Requirement already satisfied: joblib>=1.1.1 in c:\\my_files\\programming\\python\\ai\\correctspamemial\\humspam\\lib\\site-packages (from scikit-learn) (1.3.2)\n",
      "Requirement already satisfied: threadpoolctl>=2.0.0 in c:\\my_files\\programming\\python\\ai\\correctspamemial\\humspam\\lib\\site-packages (from scikit-learn) (3.2.0)\n",
      "Requirement already satisfied: joblib in c:\\my_files\\programming\\python\\ai\\correctspamemial\\humspam\\lib\\site-packages (1.3.2)\n"
     ]
    }
   ],
   "source": [
    "#Install required dependencies\n",
    "!pip install numpy\n",
    "!pip install pandas\n",
    "!pip install scikit-learn\n",
    "!pip install joblib"
   ]
  },
  {
   "cell_type": "markdown",
   "id": "c5128ca3-442e-4954-b1b5-cf83b882cc79",
   "metadata": {},
   "source": [
    "### 0. Import the installed dependencies"
   ]
  },
  {
   "cell_type": "code",
   "execution_count": 61,
   "id": "2ee6a066-88c8-44c0-bc1d-5f763d016aff",
   "metadata": {},
   "outputs": [],
   "source": [
    "# Import the installed required libraries\n",
    "import joblib\n",
    "import pandas as pd\n",
    "import numpy as np\n",
    "from sklearn.model_selection import train_test_split\n",
    "from sklearn.feature_extraction.text import CountVectorizer\n",
    "from sklearn.naive_bayes import MultinomialNB\n"
   ]
  },
  {
   "cell_type": "markdown",
   "id": "9237ebe5-932f-4705-888c-575ff2b3622d",
   "metadata": {},
   "source": [
    "### 1. Load and visualize the dataset"
   ]
  },
  {
   "cell_type": "code",
   "execution_count": 42,
   "id": "02638e07-9a46-4655-8593-3f4996966edf",
   "metadata": {},
   "outputs": [],
   "source": [
    "# Read the dataset using pandas \n",
    "dataset_df = pd.read_csv('dataset/spam_or_not_spam.csv')"
   ]
  },
  {
   "cell_type": "code",
   "execution_count": 43,
   "id": "98ae9eb4-1468-47af-b1c8-2ba890ebbc99",
   "metadata": {},
   "outputs": [],
   "source": [
    "dataset_df = dataset_df.dropna()"
   ]
  },
  {
   "cell_type": "code",
   "execution_count": 44,
   "id": "f10cc1a3-2021-4180-820e-be516a164733",
   "metadata": {},
   "outputs": [
    {
     "data": {
      "text/html": [
       "<div>\n",
       "<style scoped>\n",
       "    .dataframe tbody tr th:only-of-type {\n",
       "        vertical-align: middle;\n",
       "    }\n",
       "\n",
       "    .dataframe tbody tr th {\n",
       "        vertical-align: top;\n",
       "    }\n",
       "\n",
       "    .dataframe thead th {\n",
       "        text-align: right;\n",
       "    }\n",
       "</style>\n",
       "<table border=\"1\" class=\"dataframe\">\n",
       "  <thead>\n",
       "    <tr style=\"text-align: right;\">\n",
       "      <th></th>\n",
       "      <th>email</th>\n",
       "      <th>label</th>\n",
       "    </tr>\n",
       "  </thead>\n",
       "  <tbody>\n",
       "    <tr>\n",
       "      <th>0</th>\n",
       "      <td>date wed NUMBER aug NUMBER NUMBER NUMBER NUMB...</td>\n",
       "      <td>0.0</td>\n",
       "    </tr>\n",
       "    <tr>\n",
       "      <th>1</th>\n",
       "      <td>martin a posted tassos papadopoulos the greek ...</td>\n",
       "      <td>0.0</td>\n",
       "    </tr>\n",
       "    <tr>\n",
       "      <th>2</th>\n",
       "      <td>man threatens explosion in moscow thursday aug...</td>\n",
       "      <td>0.0</td>\n",
       "    </tr>\n",
       "    <tr>\n",
       "      <th>3</th>\n",
       "      <td>klez the virus that won t die already the most...</td>\n",
       "      <td>0.0</td>\n",
       "    </tr>\n",
       "    <tr>\n",
       "      <th>4</th>\n",
       "      <td>in adding cream to spaghetti carbonara which ...</td>\n",
       "      <td>0.0</td>\n",
       "    </tr>\n",
       "  </tbody>\n",
       "</table>\n",
       "</div>"
      ],
      "text/plain": [
       "                                               email  label\n",
       "0   date wed NUMBER aug NUMBER NUMBER NUMBER NUMB...    0.0\n",
       "1  martin a posted tassos papadopoulos the greek ...    0.0\n",
       "2  man threatens explosion in moscow thursday aug...    0.0\n",
       "3  klez the virus that won t die already the most...    0.0\n",
       "4   in adding cream to spaghetti carbonara which ...    0.0"
      ]
     },
     "execution_count": 44,
     "metadata": {},
     "output_type": "execute_result"
    }
   ],
   "source": [
    "# Visualize the df\n",
    "dataset_df.head()"
   ]
  },
  {
   "cell_type": "code",
   "execution_count": 45,
   "id": "c5335c24-980e-4e68-b07c-add971e6beab",
   "metadata": {},
   "outputs": [
    {
     "data": {
      "text/html": [
       "<div>\n",
       "<style scoped>\n",
       "    .dataframe tbody tr th:only-of-type {\n",
       "        vertical-align: middle;\n",
       "    }\n",
       "\n",
       "    .dataframe tbody tr th {\n",
       "        vertical-align: top;\n",
       "    }\n",
       "\n",
       "    .dataframe thead th {\n",
       "        text-align: right;\n",
       "    }\n",
       "</style>\n",
       "<table border=\"1\" class=\"dataframe\">\n",
       "  <thead>\n",
       "    <tr style=\"text-align: right;\">\n",
       "      <th></th>\n",
       "      <th>email</th>\n",
       "      <th>label</th>\n",
       "    </tr>\n",
       "  </thead>\n",
       "  <tbody>\n",
       "    <tr>\n",
       "      <th>3027</th>\n",
       "      <td>abc s good morning america ranks it the NUMBE...</td>\n",
       "      <td>1.0</td>\n",
       "    </tr>\n",
       "    <tr>\n",
       "      <th>3028</th>\n",
       "      <td>hyperlink hyperlink hyperlink let mortgage le...</td>\n",
       "      <td>1.0</td>\n",
       "    </tr>\n",
       "    <tr>\n",
       "      <th>3029</th>\n",
       "      <td>thank you for shopping with us gifts for all ...</td>\n",
       "      <td>1.0</td>\n",
       "    </tr>\n",
       "    <tr>\n",
       "      <th>3030</th>\n",
       "      <td>the famous ebay marketing e course learn to s...</td>\n",
       "      <td>1.0</td>\n",
       "    </tr>\n",
       "    <tr>\n",
       "      <th>3031</th>\n",
       "      <td>hello this is chinese traditional 子 件 NUMBER世...</td>\n",
       "      <td>1.0</td>\n",
       "    </tr>\n",
       "  </tbody>\n",
       "</table>\n",
       "</div>"
      ],
      "text/plain": [
       "                                                  email  label\n",
       "3027   abc s good morning america ranks it the NUMBE...    1.0\n",
       "3028   hyperlink hyperlink hyperlink let mortgage le...    1.0\n",
       "3029   thank you for shopping with us gifts for all ...    1.0\n",
       "3030   the famous ebay marketing e course learn to s...    1.0\n",
       "3031   hello this is chinese traditional 子 件 NUMBER世...    1.0"
      ]
     },
     "execution_count": 45,
     "metadata": {},
     "output_type": "execute_result"
    }
   ],
   "source": [
    "# Visualize the df\n",
    "dataset_df.tail()"
   ]
  },
  {
   "cell_type": "code",
   "execution_count": 46,
   "id": "5a1bdd71-900b-4a9a-b917-661f0c08b8af",
   "metadata": {},
   "outputs": [
    {
     "data": {
      "text/html": [
       "<div>\n",
       "<style scoped>\n",
       "    .dataframe tbody tr th:only-of-type {\n",
       "        vertical-align: middle;\n",
       "    }\n",
       "\n",
       "    .dataframe tbody tr th {\n",
       "        vertical-align: top;\n",
       "    }\n",
       "\n",
       "    .dataframe thead tr th {\n",
       "        text-align: left;\n",
       "    }\n",
       "\n",
       "    .dataframe thead tr:last-of-type th {\n",
       "        text-align: right;\n",
       "    }\n",
       "</style>\n",
       "<table border=\"1\" class=\"dataframe\">\n",
       "  <thead>\n",
       "    <tr>\n",
       "      <th></th>\n",
       "      <th colspan=\"4\" halign=\"left\">email</th>\n",
       "    </tr>\n",
       "    <tr>\n",
       "      <th></th>\n",
       "      <th>count</th>\n",
       "      <th>unique</th>\n",
       "      <th>top</th>\n",
       "      <th>freq</th>\n",
       "    </tr>\n",
       "    <tr>\n",
       "      <th>label</th>\n",
       "      <th></th>\n",
       "      <th></th>\n",
       "      <th></th>\n",
       "      <th></th>\n",
       "    </tr>\n",
       "  </thead>\n",
       "  <tbody>\n",
       "    <tr>\n",
       "      <th>0.0</th>\n",
       "      <td>2500</td>\n",
       "      <td>2445</td>\n",
       "      <td>url URL date not supplied URL</td>\n",
       "      <td>10</td>\n",
       "    </tr>\n",
       "    <tr>\n",
       "      <th>1.0</th>\n",
       "      <td>499</td>\n",
       "      <td>427</td>\n",
       "      <td>lowest rates available for term life insurance...</td>\n",
       "      <td>5</td>\n",
       "    </tr>\n",
       "  </tbody>\n",
       "</table>\n",
       "</div>"
      ],
      "text/plain": [
       "      email                                                               \n",
       "      count unique                                                top freq\n",
       "label                                                                     \n",
       "0.0    2500   2445                     url URL date not supplied URL    10\n",
       "1.0     499    427  lowest rates available for term life insurance...    5"
      ]
     },
     "execution_count": 46,
     "metadata": {},
     "output_type": "execute_result"
    }
   ],
   "source": [
    "# Visualize the df for both labels\n",
    "dataset_df.groupby('label').describe()"
   ]
  },
  {
   "cell_type": "markdown",
   "id": "56fbe05e-d3b4-4c31-bd1f-5e2e239e8149",
   "metadata": {},
   "source": [
    "### 2. Split and clean the dataset/df"
   ]
  },
  {
   "cell_type": "code",
   "execution_count": 47,
   "id": "2c3bf909-4562-4cb6-91eb-7669349b797c",
   "metadata": {},
   "outputs": [],
   "source": [
    "# Split the df as training and testing\n",
    "x_train, x_test, y_train, y_test = train_test_split(dataset_df.email, dataset_df.label, test_size = 0.25)"
   ]
  },
  {
   "cell_type": "code",
   "execution_count": 48,
   "id": "f62a5cd3-7c9a-4039-a9fd-824f972ebb0a",
   "metadata": {},
   "outputs": [
    {
     "name": "stdout",
     "output_type": "stream",
     "text": [
      "(2249,)\n"
     ]
    }
   ],
   "source": [
    "print(x_train.shape)"
   ]
  },
  {
   "cell_type": "code",
   "execution_count": 49,
   "id": "7e3733d8-c01f-4c76-9dd4-76a633938705",
   "metadata": {},
   "outputs": [
    {
     "data": {
      "text/plain": [
       "1134    once upon a time axel wrote has anyone an answ...\n",
       "1145     from scott lipcon slipcon mercea net date mon...\n",
       "2612     guaranteed to increase lift and firm your bre...\n",
       "2493    on mon nov NUMBER NUMBER at NUMBER NUMBER NUMB...\n",
       "363     we met a family in our parent baby group with ...\n",
       "                              ...                        \n",
       "2699     do you want to teach and grow rich if you are...\n",
       "388      from robert elz kre munnari oz au date thu NU...\n",
       "2927     hyperlink URL has teamed up with hyperlink fo...\n",
       "2981    new account for zzzz URL adult club offers fre...\n",
       "940     interesting it s possible of course that the s...\n",
       "Name: email, Length: 2249, dtype: object"
      ]
     },
     "execution_count": 49,
     "metadata": {},
     "output_type": "execute_result"
    }
   ],
   "source": [
    "x_train"
   ]
  },
  {
   "cell_type": "code",
   "execution_count": 50,
   "id": "90aa54c4-5d11-416c-a6dd-3d0725b68993",
   "metadata": {},
   "outputs": [],
   "source": [
    "# Check for NaN values\n",
    "nan_indices = y_train.index[y_train.isna()]"
   ]
  },
  {
   "cell_type": "code",
   "execution_count": 51,
   "id": "857182c0-3327-4b8f-978d-df3d53c2657a",
   "metadata": {},
   "outputs": [],
   "source": [
    "cv = CountVectorizer()\n",
    "x_train_count = cv.fit_transform(x_train.values)"
   ]
  },
  {
   "cell_type": "code",
   "execution_count": 52,
   "id": "9895d074-12df-420c-8a42-6fe757638665",
   "metadata": {},
   "outputs": [
    {
     "data": {
      "text/plain": [
       "<2249x25724 sparse matrix of type '<class 'numpy.int64'>'\n",
       "\twith 250282 stored elements in Compressed Sparse Row format>"
      ]
     },
     "execution_count": 52,
     "metadata": {},
     "output_type": "execute_result"
    }
   ],
   "source": [
    "x_train_count"
   ]
  },
  {
   "cell_type": "code",
   "execution_count": 53,
   "id": "31878780-67bd-4047-9165-6fa8a6a4a0a8",
   "metadata": {},
   "outputs": [
    {
     "data": {
      "text/plain": [
       "array([[0, 0, 0, ..., 0, 0, 0],\n",
       "       [0, 0, 0, ..., 0, 0, 0],\n",
       "       [0, 0, 0, ..., 0, 0, 0],\n",
       "       ...,\n",
       "       [0, 0, 0, ..., 0, 0, 0],\n",
       "       [0, 0, 0, ..., 0, 0, 0],\n",
       "       [0, 0, 0, ..., 0, 0, 0]], dtype=int64)"
      ]
     },
     "execution_count": 53,
     "metadata": {},
     "output_type": "execute_result"
    }
   ],
   "source": [
    "x_train_count.toarray()"
   ]
  },
  {
   "cell_type": "markdown",
   "id": "1e3d9bd0-8aa1-400f-8167-1eee6d41b8af",
   "metadata": {},
   "source": [
    "### 3. Define and train the NB model"
   ]
  },
  {
   "cell_type": "code",
   "execution_count": 54,
   "id": "70121bb2-b8a6-4c55-b07a-190ebda2c90f",
   "metadata": {},
   "outputs": [],
   "source": [
    "# Define the model\n",
    "model = MultinomialNB()"
   ]
  },
  {
   "cell_type": "code",
   "execution_count": 55,
   "id": "c71ca85d-e8f6-4328-bb2b-47b083aa334b",
   "metadata": {},
   "outputs": [
    {
     "data": {
      "text/html": [
       "<style>#sk-container-id-1 {color: black;}#sk-container-id-1 pre{padding: 0;}#sk-container-id-1 div.sk-toggleable {background-color: white;}#sk-container-id-1 label.sk-toggleable__label {cursor: pointer;display: block;width: 100%;margin-bottom: 0;padding: 0.3em;box-sizing: border-box;text-align: center;}#sk-container-id-1 label.sk-toggleable__label-arrow:before {content: \"▸\";float: left;margin-right: 0.25em;color: #696969;}#sk-container-id-1 label.sk-toggleable__label-arrow:hover:before {color: black;}#sk-container-id-1 div.sk-estimator:hover label.sk-toggleable__label-arrow:before {color: black;}#sk-container-id-1 div.sk-toggleable__content {max-height: 0;max-width: 0;overflow: hidden;text-align: left;background-color: #f0f8ff;}#sk-container-id-1 div.sk-toggleable__content pre {margin: 0.2em;color: black;border-radius: 0.25em;background-color: #f0f8ff;}#sk-container-id-1 input.sk-toggleable__control:checked~div.sk-toggleable__content {max-height: 200px;max-width: 100%;overflow: auto;}#sk-container-id-1 input.sk-toggleable__control:checked~label.sk-toggleable__label-arrow:before {content: \"▾\";}#sk-container-id-1 div.sk-estimator input.sk-toggleable__control:checked~label.sk-toggleable__label {background-color: #d4ebff;}#sk-container-id-1 div.sk-label input.sk-toggleable__control:checked~label.sk-toggleable__label {background-color: #d4ebff;}#sk-container-id-1 input.sk-hidden--visually {border: 0;clip: rect(1px 1px 1px 1px);clip: rect(1px, 1px, 1px, 1px);height: 1px;margin: -1px;overflow: hidden;padding: 0;position: absolute;width: 1px;}#sk-container-id-1 div.sk-estimator {font-family: monospace;background-color: #f0f8ff;border: 1px dotted black;border-radius: 0.25em;box-sizing: border-box;margin-bottom: 0.5em;}#sk-container-id-1 div.sk-estimator:hover {background-color: #d4ebff;}#sk-container-id-1 div.sk-parallel-item::after {content: \"\";width: 100%;border-bottom: 1px solid gray;flex-grow: 1;}#sk-container-id-1 div.sk-label:hover label.sk-toggleable__label {background-color: #d4ebff;}#sk-container-id-1 div.sk-serial::before {content: \"\";position: absolute;border-left: 1px solid gray;box-sizing: border-box;top: 0;bottom: 0;left: 50%;z-index: 0;}#sk-container-id-1 div.sk-serial {display: flex;flex-direction: column;align-items: center;background-color: white;padding-right: 0.2em;padding-left: 0.2em;position: relative;}#sk-container-id-1 div.sk-item {position: relative;z-index: 1;}#sk-container-id-1 div.sk-parallel {display: flex;align-items: stretch;justify-content: center;background-color: white;position: relative;}#sk-container-id-1 div.sk-item::before, #sk-container-id-1 div.sk-parallel-item::before {content: \"\";position: absolute;border-left: 1px solid gray;box-sizing: border-box;top: 0;bottom: 0;left: 50%;z-index: -1;}#sk-container-id-1 div.sk-parallel-item {display: flex;flex-direction: column;z-index: 1;position: relative;background-color: white;}#sk-container-id-1 div.sk-parallel-item:first-child::after {align-self: flex-end;width: 50%;}#sk-container-id-1 div.sk-parallel-item:last-child::after {align-self: flex-start;width: 50%;}#sk-container-id-1 div.sk-parallel-item:only-child::after {width: 0;}#sk-container-id-1 div.sk-dashed-wrapped {border: 1px dashed gray;margin: 0 0.4em 0.5em 0.4em;box-sizing: border-box;padding-bottom: 0.4em;background-color: white;}#sk-container-id-1 div.sk-label label {font-family: monospace;font-weight: bold;display: inline-block;line-height: 1.2em;}#sk-container-id-1 div.sk-label-container {text-align: center;}#sk-container-id-1 div.sk-container {/* jupyter's `normalize.less` sets `[hidden] { display: none; }` but bootstrap.min.css set `[hidden] { display: none !important; }` so we also need the `!important` here to be able to override the default hidden behavior on the sphinx rendered scikit-learn.org. See: https://github.com/scikit-learn/scikit-learn/issues/21755 */display: inline-block !important;position: relative;}#sk-container-id-1 div.sk-text-repr-fallback {display: none;}</style><div id=\"sk-container-id-1\" class=\"sk-top-container\"><div class=\"sk-text-repr-fallback\"><pre>MultinomialNB()</pre><b>In a Jupyter environment, please rerun this cell to show the HTML representation or trust the notebook. <br />On GitHub, the HTML representation is unable to render, please try loading this page with nbviewer.org.</b></div><div class=\"sk-container\" hidden><div class=\"sk-item\"><div class=\"sk-estimator sk-toggleable\"><input class=\"sk-toggleable__control sk-hidden--visually\" id=\"sk-estimator-id-1\" type=\"checkbox\" checked><label for=\"sk-estimator-id-1\" class=\"sk-toggleable__label sk-toggleable__label-arrow\">MultinomialNB</label><div class=\"sk-toggleable__content\"><pre>MultinomialNB()</pre></div></div></div></div></div>"
      ],
      "text/plain": [
       "MultinomialNB()"
      ]
     },
     "execution_count": 55,
     "metadata": {},
     "output_type": "execute_result"
    }
   ],
   "source": [
    "# Train the model\n",
    "model.fit(x_train_count, y_train) "
   ]
  },
  {
   "cell_type": "markdown",
   "id": "9ef2c18c-0b99-4f73-8659-1cf0bc443fcc",
   "metadata": {},
   "source": [
    "### 4. Save the model and the Vectorizer"
   ]
  },
  {
   "cell_type": "code",
   "execution_count": 62,
   "id": "56514634-7978-434c-b0c8-8b1b364ec9ef",
   "metadata": {},
   "outputs": [
    {
     "data": {
      "text/plain": [
       "['spam_classifier_model.joblib']"
      ]
     },
     "execution_count": 62,
     "metadata": {},
     "output_type": "execute_result"
    }
   ],
   "source": [
    "# Save the model to a file\n",
    "joblib.dump(model, 'spam_classifier_model.joblib')"
   ]
  },
  {
   "cell_type": "code",
   "execution_count": 64,
   "id": "3ff852fc-0084-426a-9343-06756f642d8e",
   "metadata": {},
   "outputs": [
    {
     "data": {
      "text/plain": [
       "['vectorizer.pkl']"
      ]
     },
     "execution_count": 64,
     "metadata": {},
     "output_type": "execute_result"
    }
   ],
   "source": [
    "# Assuming vectorizer is your trained CountVectorizer\n",
    "joblib.dump(cv, 'vectorizer.pkl')"
   ]
  },
  {
   "cell_type": "markdown",
   "id": "aba84be4-eb61-4441-9520-4451c2383864",
   "metadata": {},
   "source": [
    "##                                                                 **** End ****"
   ]
  }
 ],
 "metadata": {
  "kernelspec": {
   "display_name": "humSpamKernel",
   "language": "python",
   "name": "humspamkernel"
  },
  "language_info": {
   "codemirror_mode": {
    "name": "ipython",
    "version": 3
   },
   "file_extension": ".py",
   "mimetype": "text/x-python",
   "name": "python",
   "nbconvert_exporter": "python",
   "pygments_lexer": "ipython3",
   "version": "3.12.0"
  }
 },
 "nbformat": 4,
 "nbformat_minor": 5
}
